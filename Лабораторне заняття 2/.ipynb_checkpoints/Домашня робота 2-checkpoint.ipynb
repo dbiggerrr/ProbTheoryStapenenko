{
 "cells": [
  {
   "cell_type": "markdown",
   "metadata": {},
   "source": [
    "# Домашня робота №2"
   ]
  },
  {
   "cell_type": "markdown",
   "metadata": {},
   "source": [
    "## 1 Пароль\n",
    "Напишіть програму (функцію) для генерування випадкового пароля з такими обмеженнями:\n",
    "- пароль складається з рівно $10$ символів\n",
    "- пароль містить хоча б одну маленьку латинську літеру [a-z]\n",
    "- пароль містить хоча б одну велику латинську літеру [A-Z]\n",
    "- пароль містить хоча б одну цифру [0-9]\n",
    "- пароль містить хоча б один спеціальний символ [~!@#$%^&*()-_+=\\/{}[].,?<>:;]"
   ]
  },
  {
   "cell_type": "code",
   "execution_count": 3,
   "metadata": {},
   "outputs": [
    {
     "name": "stdout",
     "output_type": "stream",
     "text": [
      "{9Auh6siAd\n"
     ]
    }
   ],
   "source": [
    "import random\n",
    "\n",
    "def getPassword():\n",
    "    password = ''\n",
    "    spec_chars = '~!@#$%^&*()-_+=/{}[].,?<>:;'\n",
    "    numbers = '0123456789'\n",
    "    h_letters = 'QWERTYUIOPASDFGHJKLZXCVBNM'\n",
    "    s_letters = 'qwertyuiopasdfghjklzxcvbnm'\n",
    "    password += random.choice(spec_chars)\n",
    "    password += random.choice(numbers)\n",
    "    password += random.choice(h_letters)\n",
    "    password += random.choice(s_letters)\n",
    "    for i in range(6):\n",
    "        password += random.choice(spec_chars + numbers + h_letters + s_letters)\n",
    "    return password\n",
    "\n",
    "print(getPassword())\n"
   ]
  },
  {
   "cell_type": "markdown",
   "metadata": {},
   "source": [
    "## 2 Герби в ряд\n",
    "Реалізуйте функцію для обчислення емпіричної та теоретичної імовірностей випадіння $k$ гербів (HEADS) підряд у серії з $n$ підкидань чесної монетки. Підрахуйте відповідні ймовірності для таких параметрів:\n",
    "- $k = 2, n = 10, 50, 100, 500, 1000, 5000, 10000$\n",
    "- $k = 3, n = 10, 50, 100, 500, 1000, 5000, 10000$\n",
    "\n",
    "**Зауваження.** Нехай $k = 2, n = 10$ та маємо таку послідовність результатів підкидання монети: $\\{ H, T, H, H, H, H, T, T, H, T \\}$. Тоді матимемо $3$ випадки випадіння двох гербів підряд та емпіричну ймовірність такої події $1/3$."
   ]
  },
  {
   "cell_type": "code",
   "execution_count": 23,
   "metadata": {},
   "outputs": [
    {
     "name": "stdout",
     "output_type": "stream",
     "text": [
      "-------------\n",
      "k: 2 , n: 10\n",
      "0.16666666666666666\n",
      "-------------\n",
      "k: 2 , n: 50\n",
      "0.045454545454545456\n",
      "-------------\n",
      "k: 2 , n: 100\n",
      "0.023255813953488372\n",
      "-------------\n",
      "k: 2 , n: 500\n",
      "0.00411522633744856\n",
      "-------------\n",
      "k: 2 , n: 1000\n",
      "0.002044989775051125\n",
      "-------------\n",
      "k: 2 , n: 5000\n",
      "0.00039952057530962844\n",
      "-------------\n",
      "k: 2 , n: 10000\n",
      "0.00019952114924181964\n",
      "-------------\n",
      "k: 3 , n: 10\n",
      "0.2\n",
      "-------------\n",
      "k: 3 , n: 50\n",
      "0.047619047619047616\n",
      "-------------\n",
      "k: 3 , n: 100\n",
      "0.023809523809523808\n",
      "-------------\n",
      "k: 3 , n: 500\n",
      "0.004132231404958678\n",
      "-------------\n",
      "k: 3 , n: 1000\n",
      "0.0020491803278688526\n",
      "-------------\n",
      "k: 3 , n: 5000\n",
      "0.0003996802557953637\n",
      "-------------\n",
      "k: 3 , n: 10000\n",
      "0.00019956096587507485\n"
     ]
    }
   ],
   "source": [
    "import numpy as np\n",
    "def calc(k, n):\n",
    "    print('-------------')\n",
    "    print('k: {} , n: {}'.format(k, n))\n",
    "    np.random.seed(42)\n",
    "    res = 0\n",
    "    flipps = np.random.choice(['H', 'T'], size = n)\n",
    "    heads = list(flipps)\n",
    "    for i in range(len(flipps)-k):\n",
    "        temp = []\n",
    "        for j in range(0,k):\n",
    "            temp += flipps[i+k]\n",
    "        if temp.count('H') == k:\n",
    "            res += 1\n",
    "    return 1/res if res !=0 else 0\n",
    "\n",
    "print(calc(2,10))\n",
    "print(calc(2,50))\n",
    "print(calc(2,100))\n",
    "print(calc(2,500))\n",
    "print(calc(2,1000))\n",
    "print(calc(2,5000))\n",
    "print(calc(2,10000))\n",
    "\n",
    "print(calc(3,10))\n",
    "print(calc(3,50))\n",
    "print(calc(3,100))\n",
    "print(calc(3,500))\n",
    "print(calc(3,1000))\n",
    "print(calc(3,5000))\n",
    "print(calc(3,10000))"
   ]
  },
  {
   "cell_type": "markdown",
   "metadata": {},
   "source": [
    "## 3 Найбільше число\n",
    "Реалізуйте функцію підрахунку точної (теоретичної) імовірності того, що максимальне число після $n$ кидків звичайного грального кубика дорівнює $x\\_max$, для таких параметрів:\n",
    "- $n = 3, x\\_max = 6$\n",
    "- $n = 2, x\\_max = 3$\n",
    "- $n = 3, x\\_max = 5$\n",
    "\n",
    "Тобто, якщо $X_i, i = 1, \\ldots, n$, - число на $i$-му кидку кубика, а $X = \\max\\limits_{1 \\leq i \\leq n} X_i$, то потрібно знайти ймовірність $\\textbf{P} \\left( X = x\\_max \\right)$.\n",
    "\n",
    "Підрахуйте також емпіричні ймовірності відповідних подій у випадку $10000$ симуляцій.\n",
    "\n",
    "**Зауваження.** Якщо введені параметри не мають сенсу, то повертати $0$.\n",
    "Тобто, якщо вводиться $x\\_max < 1$ або $x\\_max > 6$."
   ]
  },
  {
   "cell_type": "code",
   "execution_count": 36,
   "metadata": {},
   "outputs": [
    {
     "name": "stdout",
     "output_type": "stream",
     "text": [
      "-------------\n",
      "n: 3 , x_max: 6\n",
      "numbers range(1, 7)\n",
      "0.424\n",
      "-------------\n",
      "n: 2 , x_max: 3\n",
      "numbers range(1, 7)\n",
      "0.14\n",
      "-------------\n",
      "n: 3 , x_max: 5\n",
      "numbers range(1, 7)\n",
      "0.298\n"
     ]
    }
   ],
   "source": [
    "import numpy as np\n",
    "def calc(n, x_max):\n",
    "    print('-------------')\n",
    "    print('n: {} , x_max: {}'.format(n, x_max))\n",
    "    np.random.seed(42)\n",
    "    count = 0\n",
    "    numbers = range(1,7)\n",
    "    print('numbers' , numbers)\n",
    "    for i in range(1000):\n",
    "        flipps = list(np.random.choice(numbers, size = n))\n",
    "        if max(flipps) == x_max:\n",
    "            count += 1\n",
    "    return count/1000\n",
    "\n",
    "print(calc(3, 6))\n",
    "print(calc(2, 3))\n",
    "print(calc(3, 5))"
   ]
  },
  {
   "cell_type": "markdown",
   "metadata": {},
   "source": [
    "## 4 Сума чисел\n",
    "Реалізуйте функцію підрахунку точної (теоретичної) імовірності того, що сума чисел після $n$ кидків звичайного грального кубика дорівнює $s$, для таких параметрів:\n",
    "- $n = 3, s = 13$\n",
    "- $n = 2, s = 5$\n",
    "- $n = 3, s = 7$\n",
    "\n",
    "Тобто, якщо $X_i, i = 1, \\ldots, n$, - число на $i$-му кидку кубика, а $X = \\sum\\limits_{i = 1}^{n} X_i$, то потрібно знайти ймовірність $\\textbf{P} \\left( X = s \\right)$.\n",
    "\n",
    "Підрахуйте також емпіричні ймовірності відповідних подій у випадку $10000$ симуляцій.\n",
    "\n",
    "**Зауваження.** Якщо введені параметри не мають сенсу, то повертати $0$.\n",
    "Наприклад, якщо при $n = 3$ вводиться $s < 3$ або $s > 18$."
   ]
  },
  {
   "cell_type": "code",
   "execution_count": 39,
   "metadata": {},
   "outputs": [
    {
     "name": "stdout",
     "output_type": "stream",
     "text": [
      "-------------\n",
      "n: 3 , summ: 6\n",
      "numbers range(1, 7)\n",
      "0.039\n",
      "-------------\n",
      "n: 2 , summ: 3\n",
      "numbers range(1, 7)\n",
      "0.051\n",
      "-------------\n",
      "n: 3 , summ: 5\n",
      "numbers range(1, 7)\n",
      "0.028\n"
     ]
    }
   ],
   "source": [
    "import numpy as np\n",
    "def calc(n, summ):\n",
    "    print('-------------')\n",
    "    print('n: {} , summ: {}'.format(n, summ))\n",
    "    np.random.seed(42)\n",
    "    count = 0\n",
    "    numbers = range(1,7)\n",
    "    print('numbers' , numbers)\n",
    "    for i in range(1000):\n",
    "        flipps = list(np.random.choice(numbers, size = n))\n",
    "        if sum(flipps) == summ:\n",
    "            count += 1\n",
    "    return count/1000\n",
    "\n",
    "print(calc(3, 6))\n",
    "print(calc(2, 3))\n",
    "print(calc(3, 5))\n"
   ]
  },
  {
   "cell_type": "code",
   "execution_count": null,
   "metadata": {},
   "outputs": [],
   "source": []
  }
 ],
 "metadata": {
  "kernelspec": {
   "display_name": "Python 3",
   "language": "python",
   "name": "python3"
  },
  "language_info": {
   "codemirror_mode": {
    "name": "ipython",
    "version": 3
   },
   "file_extension": ".py",
   "mimetype": "text/x-python",
   "name": "python",
   "nbconvert_exporter": "python",
   "pygments_lexer": "ipython3",
   "version": "3.7.4"
  }
 },
 "nbformat": 4,
 "nbformat_minor": 1
}
